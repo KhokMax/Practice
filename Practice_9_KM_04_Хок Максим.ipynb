{
  "nbformat": 4,
  "nbformat_minor": 0,
  "metadata": {
    "colab": {
      "name": "Practice_7_KM-01_.ipynb",
      "provenance": [],
      "collapsed_sections": []
    },
    "kernelspec": {
      "name": "python3",
      "display_name": "Python 3"
    }
  },
  "cells": [
    {
      "cell_type": "markdown",
      "metadata": {
        "id": "FMqboNwO4rVs"
      },
      "source": [
        "# **Курс \"Програмування на мові Python\"**\n",
        "\n",
        "##### Викладачі:\n",
        "##### Борисенко Павло Борисович\n",
        "##### Щьоголєв Максим Олегович\n"
      ]
    },
    {
      "cell_type": "markdown",
      "metadata": {
        "id": "A2T6MigL5Z06"
      },
      "source": [
        "## **Практичне зайняття №9**\n",
        "\n",
        "### Тема: \"Лямбда-функції. Функції вищих порядків\""
      ]
    },
    {
      "cell_type": "markdown",
      "metadata": {
        "id": "cfCdgK2zXm7e"
      },
      "source": [
        "### **Завдання 1 (1 бал)**\n",
        "\n",
        "Керівництво будівельної компанії вирішило підняти заробітні плати всім своїм працівникам на 30%. В залежності від спеціалізації та стажу працівники мають різну заробітну плату. Для підготовки звіту необхідно розрахувати нову заробітну плату для працівників компанії, а також суму індексації.\n",
        "\n",
        "Написати програму, яка буде генерувати таблицю для цього звіту. Початкова заробітна плата працівників подана у списку salary_list (у тисячах гривень). \n",
        "\n",
        "1. Для підрахунку невідомих значень повинні використовуватись вбудовані функції вищих порядків.\n",
        "\n",
        "2. Зарплата після індексації та сума індексації для працівників різних категорій повинні зберігатись у двох окремих списках. Порядок значень у кожному з нових списків повинен відповідати порядку значень у списку salary_list.\n",
        "\n",
        "3. Кожне підраховане числове значення має бути округлене до сотих.\n",
        "\n",
        "4. Дані повинні виводитись у вигляді:\n",
        "\n",
        "**Salary table:**\n",
        "\n",
        "**7.3 9.49 2.19**\n",
        "\n",
        "**8.5 11.05 2.55**\n",
        "\n",
        "**...**\n",
        "\n",
        "salary_list = [[7.3, 8.5, 11, 12.7, 15.2, 21.12, 27.35]]"
      ]
    },
    {
      "cell_type": "code",
      "metadata": {
        "id": "ifNX2M7LXm7f"
      },
      "source": [
        "salary_list = [7.3, 8.5, 11, 12.7, 15.2, 21.12, 27.35]\n",
        "index = list(map(lambda i: (i/100)*30,salary_list))\n",
        "index = list(map(lambda i: round(i,1),index))\n",
        "new_salary = list(map(lambda x,y:x + y,salary_list,index))\n",
        "new_salary = list(map(lambda i: round(i,2),new_salary))\n",
        "print(\"Salary table:\")\n",
        "print(' '.join(map(str,salary_list)))\n",
        "print(' '.join(map(str,index)))\n",
        "print(' '.join(map(str,new_salary)))"
      ],
      "execution_count": 1,
      "outputs": [
        {
          "output_type": "stream",
          "name": "stdout",
          "text": [
            "Salary table:\n7.3 8.5 11 12.7 15.2 21.12 27.35\n2.2 2.6 3.3 3.8 4.6 6.3 8.2\n9.5 11.1 14.3 16.5 19.8 27.42 35.55\n"
          ]
        }
      ]
    },
    {
      "source": [
        "### **Завдання 2 (2 бали)**\n",
        "\n",
        "Зазвичай рік має 365 днів. Однак у високосні роки додається ще один день - 29 лютого. Правила визначення високосного року такі:\n",
        "\n",
        "- Будь-який рік, що ділиться на 400 - високосний.\n",
        "\n",
        "- З тих років, що залишились, будь-який рік, що ділиться на 100 - **не** високосний.\n",
        "\n",
        "- З тих років, що залишились, будь-який рік, що ділиться на 4 - високосний.\n",
        "\n",
        "- Усі інші роки, що залишились - **не** високосні.\n",
        "\n",
        "1) Створіть функцію, в якій за допомогою вбудованих функцій вищих порядків будуть визначатися високосні роки серед перелічених років у списку years. Створена функція має повертати список високосних років.\n",
        "\n",
        "2) Створіть функцію вищих порядків, яка прийматиме на вхід попередню функцію та визначатиме кількість днів у місяці. Також функція повинна приймати на вхід ще 2 параметри: ціле число від 1 до 12 (місяць) та рік, як ціле чотирицифрове число. Ці значення корисувач має вводити з клавіатури. Перевірку введених даних слід виконувати поза межами функцій."
      ],
      "cell_type": "markdown",
      "metadata": {}
    },
    {
      "cell_type": "code",
      "execution_count": 1,
      "metadata": {},
      "outputs": [
        {
          "output_type": "stream",
          "name": "stdout",
          "text": [
            "1904 1908 1912 1916 1920 1924 1928 1932 1936 1940 1944 1948 1952 1956 1960 1964 1968 1972 1976 1980 1984 1988 1992 1996 2000 2004 2008 2012 2016 2020\n",
            "Days: 29\n"
          ]
        }
      ],
      "source": [
        "import numpy as np\n",
        "\n",
        "monthes_days = {1:31,2:28,3:31,4:30,5:30,6:31,7:31,8:31,9:30,10:31,12:31}\n",
        "monthes_days_V = {1:31,2:29,3:31,4:30,5:30,6:31,7:31,8:31,9:30,10:31,12:31}\n",
        "\n",
        "def count(year, monthe, years,years_all):\n",
        "    if year in years:\n",
        "        print(\"Days:\",monthes_days_V[monthe])\n",
        "    elif (year not in years) and (year in years_all):\n",
        "        print(\"Days:\",monthes_days[monthe])\n",
        "\n",
        "years = np.arange(1900, 2020+1, 1)\n",
        "years_all = years\n",
        "years_400 = list(filter(lambda i: i%400 == 0,years ))\n",
        "years = list(filter(lambda i: i%100 != 0,years))\n",
        "years = list(filter(lambda i: i%4 == 0,years))\n",
        "years.extend(years_400)\n",
        "years.sort()\n",
        "\n",
        "print(' '.join(map(str,years)))\n",
        "while True:\n",
        "    try:\n",
        "        year = int(input(\"Year:\"))\n",
        "        monthe = int(input(\"Monthe:\"))\n",
        "        while (year not in years_all) or (monthe not in [1,2,3,4,5,6,7,8,9,10,11,12]):\n",
        "            print('incorrect value')\n",
        "            year = int(input(\"Year:\"))\n",
        "            monthe = int(input(\"Monthe:\"))\n",
        "    except ValueError:\n",
        "        print('incorrect type')\n",
        "        continue\n",
        "    else: break\n",
        "\n",
        "count(year,monthe,years,years_all)\n"
      ]
    },
    {
      "cell_type": "code",
      "execution_count": null,
      "metadata": {},
      "outputs": [],
      "source": []
    }
  ]
}