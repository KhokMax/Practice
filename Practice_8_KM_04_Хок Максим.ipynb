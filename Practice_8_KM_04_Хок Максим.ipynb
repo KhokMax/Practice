{
  "nbformat": 4,
  "nbformat_minor": 0,
  "metadata": {
    "colab": {
      "name": "Practice_7_KM-01_.ipynb",
      "provenance": [],
      "collapsed_sections": []
    },
    "kernelspec": {
      "name": "python3",
      "display_name": "Python 3"
    }
  },
  "cells": [
    {
      "cell_type": "markdown",
      "metadata": {
        "id": "FMqboNwO4rVs"
      },
      "source": [
        "# **Курс \"Програмування на мові Python\"**\n",
        "\n",
        "##### Викладачі:\n",
        "##### Борисенко Павло Борисович\n",
        "##### Щьоголєв Максим Олегович\n"
      ]
    },
    {
      "cell_type": "markdown",
      "metadata": {
        "id": "A2T6MigL5Z06"
      },
      "source": [
        "## **Практичне зайняття №8**\n",
        "\n",
        "### Тема: \"Робота з функціями. Локальні та глобальні змінні\""
      ]
    },
    {
      "cell_type": "markdown",
      "metadata": {
        "id": "cfCdgK2zXm7e"
      },
      "source": [
        "### **Завдання 1 (3 бали)**\n",
        "\n",
        "**Підрахувати визначник матриці, використовуючи правило перестановок.**\n",
        "\n",
        "Функція random_matrix() призначена для створення квадратної матриці випадкових чисел. Її змінювати непотрібно.\n",
        "\n",
        "Приклад використання методу permutations() для створення списку перестановок також подається у комірці з кодом.\n",
        "\n",
        "1) Створити 3 функції: функцію створення списку перестановок, функцію підрахунку добутків та функцію підрахунку загальної суми.\n",
        "\n",
        "2) Кожна функція має супроводжуватись рядком документації, що буде коротко описувати її призначення.\n",
        "\n",
        "3) Розмірність квадратної матриці має вводитись користувачем з клавіатури. Підрахунки виконувати лише в тому разі, якщо користувач введе ціле додатне число.\n",
        "\n",
        "4) Загальний результат повинен підраховуватись за допомогою композиції функцій.\n",
        "\n",
        "За бажання можна перевірити правильність роботи програми за допомогою функції np.linalg.det(a)."
      ]
    },
    {
      "cell_type": "code",
      "metadata": {
        "id": "ifNX2M7LXm7f"
      },
      "source": [
        "import numpy as np\n",
        "import itertools\n",
        "\n",
        "def random_matrix(dim):\n",
        "    \"\"\"\n",
        "    The function generates dim x dim array of integers\n",
        "    between 0 and 10.\n",
        "    \"\"\"\n",
        "    matrix = np.random.randint(10, size = (dim, dim))\n",
        "    return matrix\n",
        "\n",
        "def multiply(t,matrix):\n",
        "    \"\"\"\n",
        "        Determination of the number of inversions in each permutation.\n",
        "        Multiplication of the corresponding elements of the matrix.\n",
        "        Defining the mark.\n",
        "\n",
        "    \"\"\"\n",
        "    list_res = []\n",
        "    for j in t:\n",
        "        factor_result = j\n",
        "        k = 0\n",
        "        res = 1\n",
        "        n = 0\n",
        "        factor_result = [int(x) for x in factor_result]\n",
        "        factor_len = len(factor_result)\n",
        "        # print(factor_len)\n",
        "        for i in factor_result:\n",
        "            for j in factor_result:\n",
        "                # print(i, '  ', j)\n",
        "                if i > j and factor_result.index(i) < factor_result.index(j):\n",
        "                    k += 1\n",
        "        for i in factor_result:\n",
        "            #print(matrix[n, i - 1])\n",
        "            res = res * matrix[n, i - 1]\n",
        "            n += 1\n",
        "\n",
        "        res = res * ((-1) ** k)\n",
        "        #print(res)\n",
        "        list_res.append(res)\n",
        "    #print(list_res)\n",
        "    return list_res\n",
        "\n",
        "\n",
        "\n",
        "def sum(list_res):\n",
        "    \"\"\"\n",
        "    Sum of all elements received from the multiply\n",
        "    function\n",
        "    \"\"\"\n",
        "    a = 0\n",
        "    for i in list_res:\n",
        "        a += i\n",
        "    return a\n",
        "\n",
        "\n",
        "\n",
        "while True:\n",
        "     try:\n",
        "         dim = int(input(\"Введіть розмірність матриці\"))\n",
        "         while dim <= 0 :\n",
        "             print(\"Розмірність повинна задаватися додатнім числовм відмінним від 0.\")\n",
        "             dim = int(input(\"Введіть розмірність матриці\"))\n",
        "     except ValueError:   # Якщо тип данни - невірнй, програма незавершиться,\n",
        "        print(\"Не коректні данні, дискрімінант менше 0\")\n",
        "        continue\n",
        "     else:\n",
        "        break\n",
        "\n",
        "\n",
        "matrix = random_matrix(dim)\n",
        "\n",
        "listt = list()\n",
        "n = 0\n",
        "while dim > 0:\n",
        "    n += 1\n",
        "    listt.append(str(n))\n",
        "    dim -= 1\n",
        "\n",
        "#Example of using permutations() method\n",
        "t = list(itertools.permutations(listt, n))\n",
        "#print(type(matrix))\n",
        "#print(t)\n",
        "print(matrix)\n",
        "#print(matrix[0,0])\n",
        "#print(matrix[1,1])\n",
        "#print(matrix[2,2])\n",
        "\n",
        "\n",
        "#print(multiply(t[0],matrix))\n",
        "#print(multiply(t,matrix))\n",
        "print(\"Взначник:\",sum(multiply(t,matrix)))\n"
      ],
      "execution_count": 2,
      "outputs": [
        {
          "output_type": "stream",
          "name": "stdout",
          "text": [
            "[[2 8 6]\n [3 6 2]\n [5 1 3]]\nВзначник: -122\n"
          ]
        }
      ]
    },
    {
      "cell_type": "code",
      "execution_count": null,
      "metadata": {},
      "outputs": [],
      "source": []
    }
  ]
}